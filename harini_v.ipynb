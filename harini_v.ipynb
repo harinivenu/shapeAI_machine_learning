{
  "nbformat": 4,
  "nbformat_minor": 0,
  "metadata": {
    "colab": {
      "name": "harini_v.ipynb",
      "provenance": []
    },
    "kernelspec": {
      "name": "python3",
      "display_name": "Python 3"
    },
    "language_info": {
      "name": "python"
    }
  },
  "cells": [
    {
      "cell_type": "code",
      "metadata": {
        "id": "5ofP2i7-7YUd"
      },
      "source": [
        "import numpy as np\n",
        "import pandas as pd\n",
        "import sklearn\n",
        "from sklearn.datasets import load_boston\n",
        "df=load_boston()\n",
        "print(df.DESCR)\n",
        "boston=pd.DataFrame(dfdata,columns=df.feature_names)\n",
        "boston.head()\n",
        "boston.['medv']=df.target\n",
        "boston.head()\n",
        "boston.isnull.sum()\n",
        "from sklearn.model_selection import train_test_split\n",
        "x=boston.drop('medv',axis=1)\n",
        "y=boston['medv']\n",
        "x_train,x_test,y_train,y_test=train_test_split(x,y,test_size=0.15,random_state=5)\n",
        "print(x_train.shape)\n",
        "print(x_test.shape)\n",
        "print(y_train.shape)\n",
        "print(y_test.shape)\n",
        "from sklearn.linear_model import Linear Regression\n",
        "from sklearn.metrics import mean_squared_error\n",
        "lin_model=Linear Regression()\n",
        "lin_model.fit(x_train,y_train)\n",
        "y_train_predict=lin_model.predict(x_train)\n",
        "rmse=(np.sqrt(mean_squared_error(y_train,y_train_predict )))\n",
        "print(\"the model performance for train set\")\n",
        "print(\"the model performance for training set\")\n",
        "print('RMSE is{}',format(rmse))\n",
        "print(\"\\n\")\n",
        "y_train_predict=lin_model.predict(x-test)\n",
        "rmse=(np.sqrt(mean_squared_error(y_test,y_test_predict )))\n",
        "print(\"the model performance for testing set\")\n",
        "print('RMSE is{}',format(rmse))"
      ],
      "execution_count": null,
      "outputs": []
    }
  ]
}